{
 "cells": [
  {
   "cell_type": "markdown",
   "metadata": {},
   "source": [
    "# This Note Book is contain the Python code from Scrach.\n",
    "    This is the second lecture which covers the basics of the Python.\n",
    "    In this lecture we cover the rules of maths in wihich we study \n",
    "    1.  DAMS\n",
    "    2.  PAMDA\n",
    "    3.  PODMAS\n",
    "    "
   ]
  },
  {
   "cell_type": "code",
   "execution_count": 1,
   "metadata": {},
   "outputs": [
    {
     "name": "stdout",
     "output_type": "stream",
     "text": [
      "Hello World\n"
     ]
    }
   ],
   "source": [
    "print(\"Hello World\")"
   ]
  },
  {
   "cell_type": "code",
   "execution_count": 5,
   "metadata": {},
   "outputs": [
    {
     "name": "stdout",
     "output_type": "stream",
     "text": [
      "Hello\n"
     ]
    }
   ],
   "source": [
    "def stuff():\n",
    "    print('Hello')\n",
    "    return\n",
    "    print('World')\n",
    "\n",
    "stuff()"
   ]
  },
  {
   "cell_type": "code",
   "execution_count": 5,
   "metadata": {},
   "outputs": [
    {
     "name": "stdout",
     "output_type": "stream",
     "text": [
      "No! Think Again\n",
      "No! Think Again\n",
      "No! Think Again\n",
      "Exactly!\n"
     ]
    }
   ],
   "source": [
    "correct_word = \"abc\"\n",
    "while True:\n",
    "    if input(\"wasif, who's your life?\").lower() == correct_word:\n",
    "        print(\"Exactly!\")\n",
    "        break\n",
    "    else:\n",
    "        print(\"No! Think Again\")"
   ]
  },
  {
   "cell_type": "code",
   "execution_count": 8,
   "metadata": {},
   "outputs": [
    {
     "name": "stdout",
     "output_type": "stream",
     "text": [
      "0 Python\n",
      "1 Python\n",
      "2 Python\n",
      "3 Python\n",
      "4 Python\n",
      "5 Python\n",
      "6 Python\n",
      "7 Python\n",
      "8 Python\n",
      "9 Python\n"
     ]
    }
   ],
   "source": [
    "name = \"Python\"\n",
    "for i in range(10):\n",
    "    print(i,name)"
   ]
  },
  {
   "cell_type": "code",
   "execution_count": 12,
   "metadata": {},
   "outputs": [
    {
     "name": "stdout",
     "output_type": "stream",
     "text": [
      "Before the loop 0\n",
      "9 9\n",
      "9 5\n",
      "35 35\n",
      "75 75\n",
      "8864 8864\n",
      "8864 1\n",
      "8864 43\n",
      "8864 21\n",
      "8864 534\n",
      "the largest value is:  8864\n"
     ]
    }
   ],
   "source": [
    "# finding the largest number\n",
    "num = 0\n",
    "print(\"Before the loop\" , num)\n",
    "for i in [9,5,35,75,8864,1,43,21,534]:\n",
    "    if i > num:\n",
    "        num = i\n",
    "    print(num, i)\n",
    "print(\"the largest value is: \", num)"
   ]
  },
  {
   "cell_type": "code",
   "execution_count": 13,
   "metadata": {},
   "outputs": [
    {
     "name": "stdout",
     "output_type": "stream",
     "text": [
      "5\n"
     ]
    }
   ],
   "source": [
    "tot = 0 \n",
    "for i in [5, 4, 3, 2, 1] :\n",
    "    tot = tot + 1\n",
    "print(tot)"
   ]
  },
  {
   "cell_type": "code",
   "execution_count": 18,
   "metadata": {},
   "outputs": [
    {
     "name": "stdout",
     "output_type": "stream",
     "text": [
      "Invalid input. Please enter a valid number.\n",
      "Largest: 10\n",
      "Smallest: 2\n"
     ]
    }
   ],
   "source": [
    "largest = None\n",
    "smallest = None\n",
    "\n",
    "while True:\n",
    "    user_input = input(\"Enter a number or 'done' to finish: \")\n",
    "\n",
    "    if user_input.lower() == 'done':\n",
    "        break\n",
    "\n",
    "    try:\n",
    "        number = int(user_input)\n",
    "        if largest is None or number > largest:\n",
    "            largest = number\n",
    "        if smallest is None or number < smallest:\n",
    "            smallest = number\n",
    "    except ValueError:\n",
    "        print(\"Invalid input. Please enter a valid number.\")\n",
    "\n",
    "if largest is not None and smallest is not None:\n",
    "    print(\"Largest:\", largest)\n",
    "    print(\"Smallest:\", smallest)\n",
    "else:\n",
    "    print(\"No valid numbers entered.\")\n"
   ]
  }
 ],
 "metadata": {
  "kernelspec": {
   "display_name": "Python 3",
   "language": "python",
   "name": "python3"
  },
  "language_info": {
   "codemirror_mode": {
    "name": "ipython",
    "version": 3
   },
   "file_extension": ".py",
   "mimetype": "text/x-python",
   "name": "python",
   "nbconvert_exporter": "python",
   "pygments_lexer": "ipython3",
   "version": "3.11.5"
  },
  "orig_nbformat": 4
 },
 "nbformat": 4,
 "nbformat_minor": 2
}
