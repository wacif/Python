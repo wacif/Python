{
 "cells": [
  {
   "cell_type": "markdown",
   "metadata": {},
   "source": [
    "##  **Text Sequence Type — str**\n",
    "---\n",
    "A string is a sequence of characters. Characters can include letters, numbers, symbols, and spaces. Strings are used to represent and manipulate text-based data. They serve as a fundamental data type in almost every programming language.\n",
    "\n",
    ">   **Sequence of Characters:**\n",
    "\n",
    "A string is essentially an ordered sequence of characters. Each character in the string has a specific position, known as its index. The first character typically starts at index 0, the second at index 1, and so on.\n",
    "\n",
    ">  **Immutable:**\n",
    "\n",
    "In many programming languages, strings are immutable, meaning that once a string is created, it cannot be changed or modified. Instead, any operation that seems to modify a string creates a new string.\n",
    "\n",
    ">   **Enclosed in Quotes:**\n",
    "  \n",
    "-   Single quotes: 'allows embedded \"double\" quotes'\n",
    "-   Double quotes: \"allows embedded 'single' quotes\"\n",
    "-   Triple quoted: '''Three single quotes''', \"\"\"Three double quotes\"\"\"\n",
    "  \n",
    "Triple quoted strings may span multiple lines - all associated whitespace will be included in the string literal.\n",
    "\n",
    ">   **Textual Data Handling:**\n",
    "\n",
    "Strings are fundamental for handling textual data, whether it's reading from or writing to files, user input, or communication between different parts of a program."
   ]
  },
  {
   "cell_type": "code",
   "execution_count": 1,
   "metadata": {},
   "outputs": [
    {
     "name": "stdout",
     "output_type": "stream",
     "text": [
      "Hello, World!\n"
     ]
    }
   ],
   "source": [
    "# Defining strings\n",
    "string1 = 'Hello,'\n",
    "string2 = \" World!\"\n",
    "\n",
    "# Concatenating strings\n",
    "result = string1 + string2\n",
    "\n",
    "# Printing the result\n",
    "print(result)\n"
   ]
  },
  {
   "cell_type": "markdown",
   "metadata": {},
   "source": [
    "###  **String Operations**\n",
    "\n",
    "Python provides a variety of operations and functions for manipulating strings.\n",
    "-   [Searching and Replacing]()\n",
    "-   "
   ]
  },
  {
   "cell_type": "markdown",
   "metadata": {},
   "source": [
    "### **Searching and Replacing**\n",
    "___"
   ]
  },
  {
   "cell_type": "markdown",
   "metadata": {},
   "source": [
    "**1. find(substring, start, end)**\n",
    "-   Parameters:\n",
    "    -   **substring**: The substring you want to find within the string.\n",
    "    -   **start** (optional): The starting index of the search. If provided, the search starts from this index.\n",
    "    -   **end** (optional): The ending index of the search. If provided, the search is performed up to, but not including, this index."
   ]
  },
  {
   "cell_type": "code",
   "execution_count": null,
   "metadata": {},
   "outputs": [],
   "source": [
    "sentence = \"Hello, World!\"\n",
    "\n",
    "# Using find() to find the index of \"World\"\n",
    "index = sentence.find(\"World\")\n",
    "print(\"Index of 'World':\", index)  # Output: 7\n"
   ]
  },
  {
   "cell_type": "code",
   "execution_count": null,
   "metadata": {},
   "outputs": [],
   "source": [
    "# Handling Cases when Substring is Not Found\n",
    "sentence = \"Hello, World!\"\n",
    "\n",
    "# Using find() to find the index of \"Python\"\n",
    "index = sentence.find(\"Python\")\n",
    "print(\"Index of 'Python':\", index)  # Output: -1 (not found)\n"
   ]
  },
  {
   "cell_type": "code",
   "execution_count": null,
   "metadata": {},
   "outputs": [],
   "source": [
    "sentence = \"Hello, World!\"\n",
    "\n",
    "# Using find() to find the index of \"o\" starting from index 5\n",
    "index = sentence.find(\"o\", 5)\n",
    "print(\"Index of 'o' starting from index 5:\", index)  # Output: 7\n"
   ]
  },
  {
   "cell_type": "markdown",
   "metadata": {},
   "source": [
    "**2. rfind(substring, start, end)**\n",
    "-   The rfind() method is similar to the find() method, but it searches for the highest index of a substring within a given string. If the substring is found, it returns the index of the last occurrence of the substring; otherwise, it returns -1."
   ]
  },
  {
   "cell_type": "code",
   "execution_count": null,
   "metadata": {},
   "outputs": [],
   "source": [
    "sentence = \"Hello, World! Hello!\"\n",
    "\n",
    "# Using rfind() to find the index of \"Hello\"\n",
    "index = sentence.rfind(\"Hello\")\n",
    "print(\"Index of last 'Hello':\", index)  # Output: 13\n"
   ]
  },
  {
   "cell_type": "code",
   "execution_count": null,
   "metadata": {},
   "outputs": [],
   "source": [
    "sentence = \"Hello, World! Hello!\"\n",
    "\n",
    "# Using rfind() to find the index of \"o\" within the first 15 characters\n",
    "index = sentence.rfind(\"o\", 0, 15)\n",
    "print(\"Index of last 'o' within the first 15 characters:\", index)  # Output: 13\n"
   ]
  },
  {
   "cell_type": "markdown",
   "metadata": {},
   "source": [
    "**3.  index(substring, start, end)**\n",
    "-   The index() method in Python is used to find the lowest index of a substring within a given string, similar to the find() method. However, there is a key difference between them: if the substring is not found, the index() method raises a ValueError instead of returning -1."
   ]
  },
  {
   "cell_type": "code",
   "execution_count": 4,
   "metadata": {},
   "outputs": [
    {
     "name": "stdout",
     "output_type": "stream",
     "text": [
      "Index of 'World': 7\n"
     ]
    }
   ],
   "source": [
    "sentence = \"Hello, World!\"\n",
    "\n",
    "# Using index() to find the index of \"World\"\n",
    "\n",
    "index = sentence.index(\"World!\")\n",
    "print(\"Index of 'World':\", index)  # Output: 7\n",
    "\n"
   ]
  },
  {
   "cell_type": "code",
   "execution_count": null,
   "metadata": {},
   "outputs": [],
   "source": [
    "# Handling Cases when Substring is Not Found\n",
    "sentence = \"Hello, World!\"\n",
    "\n",
    "# Using index() to find the index of \"Python\"\n",
    "try:\n",
    "    index = sentence.index(\"Python\")\n",
    "    print(\"Index of 'Python':\", index)\n",
    "except ValueError as e:\n",
    "    print(\"Substring not found:\", e)\n"
   ]
  },
  {
   "cell_type": "code",
   "execution_count": 5,
   "metadata": {},
   "outputs": [
    {
     "name": "stdout",
     "output_type": "stream",
     "text": [
      "index of \"o\" starting form index 5: 8\n"
     ]
    }
   ],
   "source": [
    "# using start and end parameters\n",
    "sentence = \"Hello, World!\"\n",
    "\n",
    "# using index() to find the index of \"o\" starting form index 5\n",
    "try:\n",
    "    index = sentence.index(\"o\", 5)\n",
    "    print(f'index of \"o\" starting form index 5: {index}')\n",
    "except ValueError as e:\n",
    "    print(e)\n",
    "\n"
   ]
  },
  {
   "cell_type": "code",
   "execution_count": 6,
   "metadata": {},
   "outputs": [
    {
     "name": "stdout",
     "output_type": "stream",
     "text": [
      "{'name': 'abc', 'classs': 4, 'subject': 'computer'}\n"
     ]
    }
   ],
   "source": [
    "thisdict = {\n",
    "    \"name\": \"abc\",\n",
    "    \"classs\" : 4,\n",
    "    \"subject\": \"computer\"\n",
    "}\n",
    "\n",
    "print(thisdict)"
   ]
  }
 ],
 "metadata": {
  "kernelspec": {
   "display_name": "Python 3",
   "language": "python",
   "name": "python3"
  },
  "language_info": {
   "codemirror_mode": {
    "name": "ipython",
    "version": 3
   },
   "file_extension": ".py",
   "mimetype": "text/x-python",
   "name": "python",
   "nbconvert_exporter": "python",
   "pygments_lexer": "ipython3",
   "version": "3.11.5"
  }
 },
 "nbformat": 4,
 "nbformat_minor": 2
}
