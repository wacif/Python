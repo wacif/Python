{
 "cells": [
  {
   "cell_type": "markdown",
   "metadata": {},
   "source": [
    "## Sequence Types -- [lists](sequence_types.ipynb#lists), [tuple](#tuples) & [range](#range)\n",
    ">  There are three basic sequence types: lists, tuples, and range objects.\n",
    "  ---"
   ]
  },
  {
   "cell_type": "markdown",
   "metadata": {},
   "source": [
    "## Lists\n",
    ">   Lists are mutable sequences,typically used to store same kind of items.\n",
    ">   List items are ordered, changeable, and allow duplicate values. List items are indexed, the first item has index [0], the second item has index [1] etc.\n",
    "\n",
    "Lists may be constructed in several ways\n",
    "-   to denote empty list:   []\n",
    "-   seperate items with commsa: [a], [a, b, c]\n",
    "-   list comprehension: [x for x ----]\n",
    "-   type constructure: list()"
   ]
  },
  {
   "cell_type": "code",
   "execution_count": 1,
   "metadata": {},
   "outputs": [
    {
     "name": "stdout",
     "output_type": "stream",
     "text": [
      "[]\n",
      "<class 'list'>\n"
     ]
    }
   ],
   "source": [
    "# creating an empty list\n",
    "empty_list = []\n",
    "\n",
    "print(empty_list)\n",
    "print(type(empty_list))"
   ]
  },
  {
   "cell_type": "code",
   "execution_count": 4,
   "metadata": {},
   "outputs": [
    {
     "name": "stdout",
     "output_type": "stream",
     "text": [
      "single item list: ['a']\n",
      "multiple item list: ['a', 'b', 'c']\n"
     ]
    }
   ],
   "source": [
    "# creating a list with single item\n",
    "single_item_list = ['a']\n",
    "multiple_item_list = ['a', 'b', 'c']\n",
    "\n",
    "print(f'single item list: {single_item_list}')\n",
    "print(\"multiple item list:\", multiple_item_list)\n"
   ]
  },
  {
   "cell_type": "code",
   "execution_count": 5,
   "metadata": {},
   "outputs": [
    {
     "name": "stdout",
     "output_type": "stream",
     "text": [
      "Original Numbers: [1, 2, 3, 4, 5, 6]\n",
      "Squared Numbers: [1, 4, 9, 16, 25, 36]\n"
     ]
    }
   ],
   "source": [
    "# using a list comprehension\n",
    "original_numbers = [1, 2, 3, 4, 5, 6]\n",
    "\n",
    "# list with squared values\n",
    "squared_numbers = [x**2 for x in original_numbers]\n",
    "\n",
    "print(f'Original Numbers: {original_numbers}')\n",
    "print(f'Squared Numbers: {squared_numbers}')"
   ]
  },
  {
   "cell_type": "code",
   "execution_count": 1,
   "metadata": {},
   "outputs": [
    {
     "name": "stdout",
     "output_type": "stream",
     "text": [
      "tuple example: (1, 2, 3, 4, 5, 6, 7, 8, 9)\n",
      "list form tuple: [1, 2, 3, 4, 5, 6, 7, 8, 9]\n"
     ]
    }
   ],
   "source": [
    "# creating a lsit using an iterable (e.g tuple)\n",
    "tuple_example = (1, 2, 3, 4, 5, 6, 7, 8, 9)\n",
    "\n",
    "# using the list() constructor to create list form tuple\n",
    "list_from_tuple = list(tuple_example)\n",
    "\n",
    "print(f'tuple example: {tuple_example}')\n",
    "print(f'list form tuple: {list_from_tuple}')"
   ]
  },
  {
   "cell_type": "markdown",
   "metadata": {},
   "source": [
    "#### Lists in Python support various operations for manipulation and retrieval of elements. Here are some common list operations:"
   ]
  },
  {
   "cell_type": "code",
   "execution_count": 2,
   "metadata": {},
   "outputs": [
    {
     "name": "stdout",
     "output_type": "stream",
     "text": [
      "[1, 2, 3, 4, 5, 6]\n"
     ]
    }
   ],
   "source": [
    "#Concatenation (+):\n",
    "list1 = [1, 2, 3]\n",
    "list2 = [4, 5, 6]\n",
    "concatenated_list = list1 + list2\n",
    "\n",
    "print(concatenated_list)"
   ]
  },
  {
   "cell_type": "code",
   "execution_count": 2,
   "metadata": {},
   "outputs": [
    {
     "name": "stdout",
     "output_type": "stream",
     "text": [
      "[1, 2, 3, 1, 2, 3, 1, 2, 3]\n"
     ]
    }
   ],
   "source": [
    "# Repetition (*):\n",
    "original_list = [1, 2, 3]\n",
    "repeated_list = original_list * 3\n",
    "\n",
    "print(repeated_list)"
   ]
  },
  {
   "cell_type": "code",
   "execution_count": 3,
   "metadata": {},
   "outputs": [
    {
     "name": "stdout",
     "output_type": "stream",
     "text": [
      "30\n"
     ]
    }
   ],
   "source": [
    "# Indexing ([]):\n",
    "my_list = [10, 20, 30, 40, 50]\n",
    "value = my_list[2]  # Retrieves the element at index 2 (30)\n",
    "\n",
    "print(value)\n"
   ]
  },
  {
   "cell_type": "code",
   "execution_count": 4,
   "metadata": {},
   "outputs": [],
   "source": [
    "# Slicing ([start:stop:step]):\n",
    "my_list = [1, 2, 3, 4, 5]\n",
    "sub_list = my_list[1:4]  # Returns [2, 3, 4]\n"
   ]
  },
  {
   "cell_type": "code",
   "execution_count": null,
   "metadata": {},
   "outputs": [],
   "source": [
    "# Length (len()):\n",
    "my_list = [1, 2, 3, 4, 5]\n",
    "length = len(my_list)\n"
   ]
  },
  {
   "cell_type": "code",
   "execution_count": null,
   "metadata": {},
   "outputs": [],
   "source": [
    "# Adding an Element (append()):\n",
    "my_list = [1, 2, 3]\n",
    "my_list.append(4)\n"
   ]
  },
  {
   "cell_type": "code",
   "execution_count": null,
   "metadata": {},
   "outputs": [],
   "source": [
    "# Inserting an Element (insert()):\n",
    "my_list = [1, 2, 3]\n",
    "my_list.insert(1, 10)  # Inserts 10 at index 1\n"
   ]
  },
  {
   "cell_type": "code",
   "execution_count": 5,
   "metadata": {},
   "outputs": [
    {
     "name": "stdout",
     "output_type": "stream",
     "text": [
      "[1, 3]\n"
     ]
    }
   ],
   "source": [
    "# Removing an Element (remove()):\n",
    "my_list = [1, 23, 3]\n",
    "my_list.remove(23)  # Removes the element with value 2\n",
    "\n",
    "print(my_list)\n"
   ]
  },
  {
   "cell_type": "code",
   "execution_count": null,
   "metadata": {},
   "outputs": [],
   "source": [
    "# Popping an Element (pop()):\n",
    "my_list = [1, 2, 3]\n",
    "popped_value = my_list.pop(1)  # Removes and returns the element at index 1\n"
   ]
  },
  {
   "cell_type": "code",
   "execution_count": null,
   "metadata": {},
   "outputs": [],
   "source": [
    "# Checking Membership (in):\n",
    "my_list = [1, 2, 3]\n",
    "is_present = 2 in my_list  # Returns True\n"
   ]
  },
  {
   "cell_type": "code",
   "execution_count": null,
   "metadata": {},
   "outputs": [],
   "source": [
    "# Counting Occurrences (count()):\n",
    "my_list = [1, 2, 2, 3, 4, 2]\n",
    "occurrences = my_list.count(2)  # Returns the number of occurrences of 2\n"
   ]
  },
  {
   "cell_type": "code",
   "execution_count": null,
   "metadata": {},
   "outputs": [],
   "source": [
    "# Finding Index (index()):\n",
    "my_list = [10, 20, 30, 40, 50]\n",
    "index = my_list.index(30)  # Returns the index of the first occurrence of 30\n"
   ]
  },
  {
   "cell_type": "code",
   "execution_count": null,
   "metadata": {},
   "outputs": [],
   "source": [
    "# Sorting (sort()):\n",
    "my_list = [3, 1, 4, 1, 5, 9, 2]\n",
    "my_list.sort()  # Sorts the list in ascending order\n"
   ]
  },
  {
   "cell_type": "code",
   "execution_count": null,
   "metadata": {},
   "outputs": [],
   "source": [
    "# Reversing (reverse()):\n",
    "my_list = [1, 2, 3, 4, 5]\n",
    "my_list.reverse()  # Reverses the order of elements in the list\n"
   ]
  },
  {
   "cell_type": "code",
   "execution_count": null,
   "metadata": {},
   "outputs": [],
   "source": [
    "# Clearing (clear()):\n",
    "my_list = [1, 2, 3]\n",
    "my_list.clear()  # Removes all elements, making the list empty\n"
   ]
  },
  {
   "cell_type": "markdown",
   "metadata": {},
   "source": [
    "## Tuples"
   ]
  },
  {
   "cell_type": "markdown",
   "metadata": {},
   "source": [
    ">   Tuples are immutable sequences, typically used to store collections of heterogeneous data. i.e Tuples are used to store multiple items in a single variable. A tuple is a collection which is ordered and unchangeable.\n",
    "\n",
    "Tuples may be constructed in a number of ways:\n",
    "-   Using a pair of parentheses to denote the empty tuple: ()\n",
    "-   Using a trailing comma for a singleton tuple: a, or (a,)\n",
    "-   Separating items with commas: a, b, c or (a, b, c)\n",
    "-   Using the tuple() built-in: tuple() or tuple(iterable)"
   ]
  },
  {
   "cell_type": "code",
   "execution_count": 6,
   "metadata": {},
   "outputs": [
    {
     "name": "stdout",
     "output_type": "stream",
     "text": [
      "Empty Tuple: ()\n"
     ]
    }
   ],
   "source": [
    "# Creating an empty tuple using parentheses\n",
    "empty_tuple = ()\n",
    "\n",
    "# Printing the empty tuple\n",
    "print(\"Empty Tuple:\", empty_tuple)\n"
   ]
  },
  {
   "cell_type": "code",
   "execution_count": 7,
   "metadata": {},
   "outputs": [
    {
     "name": "stdout",
     "output_type": "stream",
     "text": [
      "Singleton Tuple 1: (42,)\n",
      "Singleton Tuple 2: (3.14,)\n"
     ]
    }
   ],
   "source": [
    "# Creating a singleton tuple using a trailing comma\n",
    "singleton_tuple1 = 42,\n",
    "singleton_tuple2 = (3.14,)\n",
    "\n",
    "# Printing the singleton tuples\n",
    "print(\"Singleton Tuple 1:\", singleton_tuple1)\n",
    "print(\"Singleton Tuple 2:\", singleton_tuple2)\n"
   ]
  },
  {
   "cell_type": "code",
   "execution_count": 8,
   "metadata": {},
   "outputs": [
    {
     "name": "stdout",
     "output_type": "stream",
     "text": [
      "Tuple 1: (10, 20, 30)\n",
      "Tuple 2: (40, 50, 60)\n"
     ]
    }
   ],
   "source": [
    "# Creating a tuple by separating items with commas\n",
    "tuple1 = 10, 20, 30\n",
    "\n",
    "# Creating a tuple using parentheses with commas\n",
    "tuple2 = (40, 50, 60)\n",
    "\n",
    "# Printing the tuples\n",
    "print(\"Tuple 1:\", tuple1)\n",
    "print(\"Tuple 2:\", tuple2)\n"
   ]
  },
  {
   "cell_type": "code",
   "execution_count": 9,
   "metadata": {},
   "outputs": [
    {
     "name": "stdout",
     "output_type": "stream",
     "text": [
      "Empty Tuple: ()\n",
      "Tuple from List (4, 5, 6)\n"
     ]
    }
   ],
   "source": [
    "# Creating an empty tuple using tuple()\n",
    "empty_tuple = tuple()\n",
    "\n",
    "# Creating a tuple from a list using tuple()\n",
    "my_list = [4, 5, 6]\n",
    "my_tuple = tuple(my_list)\n",
    "\n",
    "# Printing the tuples\n",
    "print(\"Empty Tuple:\", empty_tuple)\n",
    "print(\"Tuple from List\", my_tuple)\n"
   ]
  },
  {
   "cell_type": "markdown",
   "metadata": {},
   "source": [
    ">   **Note** that it is actually the comma which makes a tuple, not the parentheses. The parentheses are optional, except in the empty tuple case, or when they are needed to avoid syntactic ambiguity."
   ]
  },
  {
   "cell_type": "markdown",
   "metadata": {},
   "source": [
    "## Range"
   ]
  },
  {
   "cell_type": "markdown",
   "metadata": {},
   "source": []
  },
  {
   "cell_type": "code",
   "execution_count": 1,
   "metadata": {},
   "outputs": [
    {
     "name": "stdout",
     "output_type": "stream",
     "text": [
      "<class 'str'>\n"
     ]
    }
   ],
   "source": []
  },
  {
   "cell_type": "code",
   "execution_count": 2,
   "metadata": {},
   "outputs": [
    {
     "name": "stdout",
     "output_type": "stream",
     "text": [
      "1 0 0\n"
     ]
    }
   ],
   "source": [
    "a = 1,00,000\n",
    "print(1,00,000)"
   ]
  },
  {
   "cell_type": "code",
   "execution_count": 2,
   "metadata": {},
   "outputs": [
    {
     "name": "stdout",
     "output_type": "stream",
     "text": [
      "The key's of the dict 'Student' are:\n"
     ]
    },
    {
     "ename": "AttributeError",
     "evalue": "'dict' object has no attribute 'key'",
     "output_type": "error",
     "traceback": [
      "\u001b[1;31m---------------------------------------------------------------------------\u001b[0m",
      "\u001b[1;31mAttributeError\u001b[0m                            Traceback (most recent call last)",
      "Cell \u001b[1;32mIn[2], line 10\u001b[0m\n\u001b[0;32m      8\u001b[0m \u001b[38;5;66;03m# Iterate through dict to display 'Keys'\u001b[39;00m\n\u001b[0;32m      9\u001b[0m \u001b[38;5;28mprint\u001b[39m(\u001b[38;5;124m\"\u001b[39m\u001b[38;5;124mThe key\u001b[39m\u001b[38;5;124m'\u001b[39m\u001b[38;5;124ms of the dict \u001b[39m\u001b[38;5;124m'\u001b[39m\u001b[38;5;124mStudent\u001b[39m\u001b[38;5;124m'\u001b[39m\u001b[38;5;124m are:\u001b[39m\u001b[38;5;124m\"\u001b[39m) \n\u001b[1;32m---> 10\u001b[0m \u001b[38;5;28;01mfor\u001b[39;00m key \u001b[38;5;129;01min\u001b[39;00m \u001b[43mstudent\u001b[49m\u001b[38;5;241;43m.\u001b[39;49m\u001b[43mkey\u001b[49m():\n\u001b[0;32m     11\u001b[0m     \u001b[38;5;28mprint\u001b[39m(key)\n\u001b[0;32m     13\u001b[0m \u001b[38;5;66;03m# Iterate over dict to display 'Values'\u001b[39;00m\n",
      "\u001b[1;31mAttributeError\u001b[0m: 'dict' object has no attribute 'key'"
     ]
    }
   ],
   "source": [
    "#\n",
    "student = {\n",
    "    \"name\"  : \"Wasif Nawaz\",\n",
    "    \"age\"   : 23,\n",
    "    \"grade\" : 100\n",
    "}\n",
    "\n",
    "# Iterate through dict to display 'Keys'\n",
    "print(\"The key's of the dict 'Student' are:\") \n",
    "for key in student.key():\n",
    "    print(key)\n",
    "\n",
    "# Iterate over dict to display 'Values'\n",
    "print(\"The values in the dict are:\")\n",
    "for key in student:\n",
    "    print(student[key])"
   ]
  }
 ],
 "metadata": {
  "kernelspec": {
   "display_name": "Python 3",
   "language": "python",
   "name": "python3"
  },
  "language_info": {
   "codemirror_mode": {
    "name": "ipython",
    "version": 3
   },
   "file_extension": ".py",
   "mimetype": "text/x-python",
   "name": "python",
   "nbconvert_exporter": "python",
   "pygments_lexer": "ipython3",
   "version": "3.11.5"
  }
 },
 "nbformat": 4,
 "nbformat_minor": 2
}
