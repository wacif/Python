{
 "cells": [
  {
   "cell_type": "code",
   "execution_count": null,
   "metadata": {},
   "outputs": [],
   "source": [
    "escaped_string = \"This is a \\\"quoted\\\" string.\"\n",
    "print(escaped_string)\n",
    "raw_string = r'This is a raw string.\\nNewline is not escaped.'\n",
    "print(raw_string)"
   ]
  },
  {
   "cell_type": "code",
   "execution_count": null,
   "metadata": {},
   "outputs": [],
   "source": [
    "sentence = \"Python is easy to learn and Python is powerful.\"\n",
    "index = sentence.find(\"Python\")\n",
    "replaced = sentence.replace(\"Python\", \"Java\")\n",
    "occurrences = sentence.count(\"Python\")\n",
    "starts_with = sentence.startswith(\"Python\")\n",
    "ends_with = sentence.endswith(\"powerful.\")\n",
    "\n",
    "print(\"index: \", index)\n",
    "print(\"replaced: \", replaced)\n",
    "print(\"occurences: \", occurrences)\n",
    "print(\"starts with: \", starts_with)\n",
    "print(\"ends with: \", ends_with)\n"
   ]
  },
  {
   "cell_type": "code",
   "execution_count": null,
   "metadata": {},
   "outputs": [],
   "source": [
    "import string\n",
    "\n",
    "# Printable characters\n",
    "printable_characters = string.printable\n",
    "\n",
    "# ASCII letters\n",
    "ascii_letters = string.ascii_letters\n",
    "\n",
    "print(printable_characters)\n",
    "print(ascii_letters)"
   ]
  },
  {
   "cell_type": "code",
   "execution_count": null,
   "metadata": {},
   "outputs": [],
   "source": [
    "fhand = input(\"enter the file name: \")\n",
    "file_opening = open(fhand)\n",
    "lines = list()\n",
    "for line in file_opening:\n",
    "    lines.append(line)\n",
    "    #print(lines)\n",
    "    #print(type(lines))\n",
    "for line in lines:\n",
    "    print(line)"
   ]
  },
  {
   "cell_type": "code",
   "execution_count": null,
   "metadata": {},
   "outputs": [],
   "source": [
    "fhand = input(\"enter the file name: \")\n",
    "open_file = open(fhand)\n",
    "\n",
    "for line in open_file:\n",
    "    lines = open_file.readlines()\n",
    "\n",
    "    for line in lines:\n",
    "        print(line.strip())"
   ]
  },
  {
   "cell_type": "code",
   "execution_count": null,
   "metadata": {},
   "outputs": [],
   "source": [
    "x = { 'chuck' : 1 , 'fred' : 42, 'jan': 100}\n",
    "y = x.items()\n",
    "print(y)\n",
    "print(type(y))"
   ]
  },
  {
   "cell_type": "code",
   "execution_count": null,
   "metadata": {},
   "outputs": [],
   "source": [
    "x = (5, 1, 3)\n",
    "if (6, 0, 0) > x:\n",
    "    print(True)\n",
    "else:\n",
    "    print(False)\n"
   ]
  },
  {
   "cell_type": "code",
   "execution_count": null,
   "metadata": {},
   "outputs": [],
   "source": [
    "string_methods = dir(str)\n",
    "print(string_methods)\n",
    "\n",
    "name = \"xyz\"\n",
    "name.\n"
   ]
  },
  {
   "cell_type": "code",
   "execution_count": null,
   "metadata": {},
   "outputs": [],
   "source": [
    "def test_fun():\n",
    "    print(\"Line 1\")\n",
    "    print(\"Line 2\")\n",
    "\n",
    "def test_fun2():\n",
    "    test_fun()\n",
    "    test_fun()\n",
    "\n",
    "test_fun2()"
   ]
  },
  {
   "cell_type": "code",
   "execution_count": null,
   "metadata": {},
   "outputs": [],
   "source": [
    "any_name = \"Wasif\"\n",
    "def user_name(name):\n",
    "    print(f'Hello {name}')\n",
    "\n",
    "out_put = user_name(any_name)\n",
    "print(out_put)"
   ]
  },
  {
   "cell_type": "code",
   "execution_count": null,
   "metadata": {},
   "outputs": [],
   "source": [
    " # function taking two parameters \n",
    "def user_name(f_name, l_name):  # first name and last name as parameters\n",
    "    print(f'Welcome! {f_name} {l_name}')\n",
    "\n",
    "# function call\n",
    "user_name('Eathen', 'Jakson')   # expected output \"Welcome! Eathen Jackson\""
   ]
  },
  {
   "cell_type": "code",
   "execution_count": null,
   "metadata": {},
   "outputs": [],
   "source": [
    "# function with three parameters\n",
    "def add_numbers(x, y, z):\n",
    "    sum = x + y + z\n",
    "    print(sum)\n",
    "\n",
    "# function call\n",
    "add_numbers(2, 3, 4)    # expected output \"9\"\n"
   ]
  },
  {
   "cell_type": "code",
   "execution_count": null,
   "metadata": {},
   "outputs": [],
   "source": [
    "# time conversion function (seconds)\n",
    "\n",
    "def seconds_conversion(days, hours, minutes):\n",
    "    # 1 day = 24 hrs, 1 hr = 60 mints, 1 mint = 60 secs\n",
    "    secondsInDay = days * 24 * 60 *60  \n",
    "\n",
    "    # 1 hour = 60 mints, 1 mint = 60 seconds\n",
    "    secondsInHour = hours * 60 * 60\n",
    "\n",
    "    # 1 mint = 60 secs\n",
    "    secondsInMints =    minutes * 60\n",
    "\n",
    "    # sum of the values\n",
    "    total_seconds = secondsInDay + secondsInHour +secondsInMints\n",
    "\n",
    "    return total_seconds\n",
    "\n",
    "# Get input form the user \n",
    "days = int(input(\"Please enter the number of days: \"))\n",
    "hours = int(input(\"Pleasse enter the number of minutes: \"))\n",
    "mints = int(input(\"Please enter the number of minutes: \"))\n",
    "\n",
    "output = seconds_conversion(days, hours, mints)\n",
    "\n",
    "# print output\n",
    "print(f'{days} days {hours} hours and {mints} minutes is equal to {output} seconds.')\n",
    "      "
   ]
  },
  {
   "cell_type": "code",
   "execution_count": 1,
   "metadata": {},
   "outputs": [
    {
     "name": "stdout",
     "output_type": "stream",
     "text": [
      "4\n"
     ]
    }
   ],
   "source": [
    "import random\n",
    "\n",
    "print(random.randrange(0, 11))"
   ]
  }
 ],
 "metadata": {
  "kernelspec": {
   "display_name": "Python 3",
   "language": "python",
   "name": "python3"
  },
  "language_info": {
   "codemirror_mode": {
    "name": "ipython",
    "version": 3
   },
   "file_extension": ".py",
   "mimetype": "text/x-python",
   "name": "python",
   "nbconvert_exporter": "python",
   "pygments_lexer": "ipython3",
   "version": "3.11.5"
  }
 },
 "nbformat": 4,
 "nbformat_minor": 2
}
