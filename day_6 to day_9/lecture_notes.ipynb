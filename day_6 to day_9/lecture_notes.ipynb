{
 "cells": [
  {
   "cell_type": "markdown",
   "metadata": {},
   "source": [
    "What is data?\\\n",
    "Data is numbers, letters.\\\n",
    "Height, ABC, 12343\\\n",
    "key points\\\n",
    "    1- serial point is called index\\\n",
    "    2- rows and colums makes a dataframe\\\n",
    "Dataframe\\\n",
    "    rows\\\n",
    "    colums\\\n",
    "    idex\\\n",
    "    variables\\\n",
    "Data\\\n",
    "    Primary Data\\\n",
    "        Original Data\\\n",
    "    Secondary Data\\\n",
    "        Others Data\\\n",
    "\n",
    "Free Data Provider Websites\n",
    "    1-Kaggle.com\\\n",
    "    2-googledata search (search engine)\\\n",
    "    3-github\\\n",
    "    4-faostats.com\\\n",
    "    5-websites\\\n",
    "        twitter\\\n",
    "        wikipedia\\\n",
    "        data scrapping form websites\\\n",
    "    6-Project \\\n",
    "        twitter sentiment analysis\\\n",
    "        open computer vision\\\n",
    "    7-every country has its own stats websites\\\n",
    "    8-NADRA\\\n",
    "    9-crime detection\\\n",
    "    10-Business analytics data(like stocks exchanges data)\\\n",
    "    11-University Data Sets\\\n",
    "\n",
    "    besides all of these their are many other sources\n",
    "    like Research papers\n",
    "\n",
    "    "
   ]
  }
 ],
 "metadata": {
  "language_info": {
   "name": "python"
  }
 },
 "nbformat": 4,
 "nbformat_minor": 2
}
